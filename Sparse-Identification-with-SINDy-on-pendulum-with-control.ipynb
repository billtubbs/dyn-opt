{
 "cells": [
  {
   "cell_type": "markdown",
   "metadata": {},
   "source": [
    "# Test SINDy on a Simple Pendulum System\n",
    "\n",
    "This code demonstrates how to use the SparseNonLinearModel class to identify the governing equations of a non-linear dynamical system with a forced input.\n",
    "\n",
    "The system used in these examples is a [simple pendulum system](https://services.math.duke.edu/education/ccp/materials/diffeq/pendulum/pend1.html) of ordinary differential equations.\n",
    "\n",
    "Contents:\n",
    "1. Generate data by simulating pendulum\n",
    "2. Identify system dynamics using sparse regression\n",
    " 1. Using SparseNonLinearModel class\n",
    " 2. Using identified model for prediction\n",
    " 3. Estimation from 10 data points\n",
    "\n",
    "References:\n",
    "\n",
    "1. Brunton, S. L., & Kutz, J. N. (2019). Data-Driven Science and Engineering: Machine Learning, Dynamical Systems, and Control (1st ed.). Cambridge University Press. http://www.databookuw.com"
   ]
  },
  {
   "cell_type": "code",
   "execution_count": 1,
   "metadata": {},
   "outputs": [],
   "source": [
    "from functools import partial\n",
    "import numpy as np\n",
    "import pandas as pd\n",
    "import matplotlib.pyplot as plt\n",
    "from scipy.integrate import odeint\n",
    "from scipy.interpolate import interp1d\n",
    "\n",
    "# Local modules\n",
    "from dynopt.models.models import NonLinearModel, SparseNonLinearModel\n",
    "\n",
    "%matplotlib inline"
   ]
  },
  {
   "cell_type": "markdown",
   "metadata": {},
   "source": [
    "# 1. Generate data by simulating pendulum"
   ]
  },
  {
   "cell_type": "code",
   "execution_count": 2,
   "metadata": {},
   "outputs": [],
   "source": [
    "# System equations\n",
    "\n",
    "def pendulum_dydt(t, y, u, m=1, L=2, g=-10, b=1):\n",
    "    \"\"\"Simulates the non-linear dynamics of a simple pendulum system.\n",
    "    These non-linear ordinary differential equations (ODEs) return the\n",
    "    time-derivative at the current time given the current state of the\n",
    "    system.\n",
    "    \n",
    "    Args:\n",
    "        t (float): Time variable - not used here but included for\n",
    "            compatibility with solvers like scipy.integrate.solve_ivp.\n",
    "        y (np.array): State vector. This should be an array of\n",
    "            shape (2, ) containing the current state of the system.\n",
    "            y[0] is the angle (theta) in radians of the pendulum from\n",
    "            the vertical down position and y[1] is the angular \n",
    "            velocity (dtheta/dt).\n",
    "        u (function): u(t) is a function which should return the \n",
    "            torque applied to shaft.\n",
    "        m (float): Mass of pendulum.\n",
    "        L (float): Length of pendulum.\n",
    "        g (float): Acceleration due to gravity.\n",
    "        b (float): Damping coefficient for joint friction (proportional\n",
    "            to angular velocity).\n",
    "    Returns:\n",
    "        dydt (np.array): The time derivate of the state (dy/dt) as a\n",
    "            shape (2, ) array.\n",
    "    \"\"\"\n",
    "\n",
    "    dydt = np.empty_like(y)\n",
    "    dydt[0] = y[1]\n",
    "    dydt[1] = -(b/m) * y[1] + (g/L) * np.sin(y[0]) + u(t) / L\n",
    "\n",
    "    return dydt"
   ]
  },
  {
   "cell_type": "code",
   "execution_count": 3,
   "metadata": {},
   "outputs": [],
   "source": [
    "dt = 0.01\n",
    "T = 10\n",
    "t = np.arange(0, T + dt, dt)"
   ]
  },
  {
   "cell_type": "code",
   "execution_count": 4,
   "metadata": {},
   "outputs": [],
   "source": [
    "# Cart-pendulum system parameters (constants)\n",
    "params = {\n",
    "    'm': 1,  # Mass of pendulum\n",
    "    'L': 2,  # Length of pendulum\n",
    "    'g': -10,  # Acceleration due to gravity\n",
    "    'b': 1  # Damping coefficient for joint friction\n",
    "}"
   ]
  },
  {
   "cell_type": "code",
   "execution_count": 5,
   "metadata": {},
   "outputs": [],
   "source": [
    "# Initial condition\n",
    "x0 = [np.pi, 0]  # Pendulum up position"
   ]
  },
  {
   "cell_type": "code",
   "execution_count": 6,
   "metadata": {},
   "outputs": [
    {
     "data": {
      "text/plain": [
       "(array(-0.), array(-1.30057568))"
      ]
     },
     "execution_count": 6,
     "metadata": {},
     "output_type": "execute_result"
    }
   ],
   "source": [
    "# Control input\n",
    "u = -2*np.sin(t*(1+t/20))  # Sine function with varying frequency\n",
    "\n",
    "uf = interp1d(t, u, kind='previous')\n",
    "u = u[:-1]\n",
    "assert u.shape == (1000,), u.shape\n",
    "\n",
    "# u is a function defined in this range\n",
    "uf(t[0]), uf(t[-1])"
   ]
  },
  {
   "cell_type": "code",
   "execution_count": 7,
   "metadata": {},
   "outputs": [
    {
     "data": {
      "text/plain": [
       "array([ 0.000000e+00, -6.123234e-16])"
      ]
     },
     "execution_count": 7,
     "metadata": {},
     "output_type": "execute_result"
    }
   ],
   "source": [
    "dYdt = pendulum_dydt(t[0], x0, u=uf, **params)\n",
    "dYdt"
   ]
  },
  {
   "cell_type": "code",
   "execution_count": 8,
   "metadata": {},
   "outputs": [
    {
     "data": {
      "image/png": "[encoded data removed]",
      "text/plain": [
       "<Figure size 576x180 with 1 Axes>"
      ]
     },
     "metadata": {
      "needs_background": "light"
     },
     "output_type": "display_data"
    }
   ],
   "source": [
    "plt.figure(figsize=(8,2.5))\n",
    "plt.plot(t, uf(t))\n",
    "plt.title('Input $u(t)$')\n",
    "plt.xlabel('$t$')\n",
    "plt.grid()"
   ]
  },
  {
   "cell_type": "code",
   "execution_count": 9,
   "metadata": {},
   "outputs": [
    {
     "name": "stdout",
     "output_type": "stream",
     "text": [
      "CPU times: user 9.81 s, sys: 166 ms, total: 9.97 s\n",
      "Wall time: 9.85 s\n"
     ]
    }
   ],
   "source": [
    "%%time\n",
    "\n",
    "# Simulate using scipy.integrate.odeint method\n",
    "# Produces same results as Matlab\n",
    "fun = partial(pendulum_dydt, u=uf, **params)\n",
    "rtol = 10e-12\n",
    "atol = 10e-12 * np.ones_like(x0)\n",
    "X = odeint(fun, x0, t[:-1], tfirst=True, rtol=rtol, atol=atol)\n",
    "assert X.shape == (1000, 2), X.shape"
   ]
  },
  {
   "cell_type": "code",
   "execution_count": 10,
   "metadata": {},
   "outputs": [
    {
     "data": {
      "text/plain": [
       "array([[ 3.142e+00,  0.000e+00],\n",
       "       [ 3.142e+00, -0.000e+00],\n",
       "       [ 3.142e+00, -0.000e+00],\n",
       "       [ 3.142e+00, -0.000e+00],\n",
       "       [ 3.142e+00, -1.000e-03]])"
      ]
     },
     "execution_count": 10,
     "metadata": {},
     "output_type": "execute_result"
    }
   ],
   "source": [
    "X[:5].round(3)"
   ]
  },
  {
   "cell_type": "code",
   "execution_count": 11,
   "metadata": {},
   "outputs": [
    {
     "data": {
      "image/png": "[encoded data removed]",
      "text/plain": [
       "<Figure size 576x180 with 1 Axes>"
      ]
     },
     "metadata": {
      "needs_background": "light"
     },
     "output_type": "display_data"
    }
   ],
   "source": [
    "fig, ax = plt.subplots(figsize=(8,2.5))\n",
    "for i in range(X.shape[1]):\n",
    "    plt.plot(t[1:], X[:,i], label=f'x[{i}]')\n",
    "plt.xlabel('t')\n",
    "plt.grid()\n",
    "plt.legend()\n",
    "plt.show()"
   ]
  },
  {
   "cell_type": "code",
   "execution_count": 12,
   "metadata": {},
   "outputs": [],
   "source": [
    "# Calculate derivatives (vectorized version)\n",
    "dXdt = pendulum_dydt(t[:-1], X.T, uf, **params).T\n",
    "assert dXdt.shape == (1000, 2)"
   ]
  },
  {
   "cell_type": "markdown",
   "metadata": {},
   "source": [
    "## 2. Identify system dynamics using sparse regression"
   ]
  },
  {
   "cell_type": "markdown",
   "metadata": {},
   "source": [
    "### A. Using SparseNonLinearModel class"
   ]
  },
  {
   "cell_type": "code",
   "execution_count": 13,
   "metadata": {},
   "outputs": [
    {
     "data": {
      "text/plain": [
       "SparseNonLinearModel(['theta', 'theta_dot', 'u'], ['theta_dot', 'theta_ddot'], estimator=LinearRegression(copy_X=True, fit_intercept=True, n_jobs=None, normalize=False), custom_features=['sin(x0)', 'cos(x0)', 'sin(x0)**2', 'cos(x0)**2', 'sin(x0)*cos(x0)'], poly_order=2)"
      ]
     },
     "execution_count": 13,
     "metadata": {},
     "output_type": "execute_result"
    }
   ],
   "source": [
    "# Labels for inputs and outputs\n",
    "x_names = ['theta', 'theta_dot', 'u']\n",
    "y_names = ['theta_dot', 'theta_ddot']\n",
    "\n",
    "# Choose additional features for model identification\n",
    "custom_features = ['sin(x0)', 'cos(x0)', 'sin(x0)**2', \n",
    "                   'cos(x0)**2', 'sin(x0)*cos(x0)']\n",
    "\n",
    "poly_order = 2\n",
    "model = SparseNonLinearModel(x_names, y_names, \n",
    "                             custom_features=custom_features,\n",
    "                             poly_order=poly_order)\n",
    "model"
   ]
  },
  {
   "cell_type": "code",
   "execution_count": 14,
   "metadata": {},
   "outputs": [
    {
     "data": {
      "text/html": [
       "<div>\n",
       "<style scoped>\n",
       "    .dataframe tbody tr th:only-of-type {\n",
       "        vertical-align: middle;\n",
       "    }\n",
       "\n",
       "    .dataframe tbody tr th {\n",
       "        vertical-align: top;\n",
       "    }\n",
       "\n",
       "    .dataframe thead th {\n",
       "        text-align: right;\n",
       "    }\n",
       "</style>\n",
       "<table border=\"1\" class=\"dataframe\">\n",
       "  <thead>\n",
       "    <tr style=\"text-align: right;\">\n",
       "      <th></th>\n",
       "      <th>theta_dot</th>\n",
       "      <th>theta_ddot</th>\n",
       "    </tr>\n",
       "  </thead>\n",
       "  <tbody>\n",
       "    <tr>\n",
       "      <th>0</th>\n",
       "      <td>0.000000e+00</td>\n",
       "      <td>-6.123234e-16</td>\n",
       "    </tr>\n",
       "    <tr>\n",
       "      <th>1</th>\n",
       "      <td>-1.348867e-11</td>\n",
       "      <td>-1.000483e-02</td>\n",
       "    </tr>\n",
       "    <tr>\n",
       "      <th>2</th>\n",
       "      <td>-9.955803e-05</td>\n",
       "      <td>-1.992160e-02</td>\n",
       "    </tr>\n",
       "    <tr>\n",
       "      <th>3</th>\n",
       "      <td>-2.978226e-04</td>\n",
       "      <td>-2.975509e-02</td>\n",
       "    </tr>\n",
       "    <tr>\n",
       "      <th>4</th>\n",
       "      <td>-5.939895e-04</td>\n",
       "      <td>-3.951002e-02</td>\n",
       "    </tr>\n",
       "  </tbody>\n",
       "</table>\n",
       "</div>"
      ],
      "text/plain": [
       "      theta_dot    theta_ddot\n",
       "0  0.000000e+00 -6.123234e-16\n",
       "1 -1.348867e-11 -1.000483e-02\n",
       "2 -9.955803e-05 -1.992160e-02\n",
       "3 -2.978226e-04 -2.975509e-02\n",
       "4 -5.939895e-04 -3.951002e-02"
      ]
     },
     "execution_count": 14,
     "metadata": {},
     "output_type": "execute_result"
    }
   ],
   "source": [
    "dXdt = pd.DataFrame(dXdt, columns=y_names)\n",
    "dXdt.head()"
   ]
  },
  {
   "cell_type": "code",
   "execution_count": 15,
   "metadata": {},
   "outputs": [
    {
     "data": {
      "text/html": [
       "<div>\n",
       "<style scoped>\n",
       "    .dataframe tbody tr th:only-of-type {\n",
       "        vertical-align: middle;\n",
       "    }\n",
       "\n",
       "    .dataframe tbody tr th {\n",
       "        vertical-align: top;\n",
       "    }\n",
       "\n",
       "    .dataframe thead th {\n",
       "        text-align: right;\n",
       "    }\n",
       "</style>\n",
       "<table border=\"1\" class=\"dataframe\">\n",
       "  <thead>\n",
       "    <tr style=\"text-align: right;\">\n",
       "      <th></th>\n",
       "      <th>theta</th>\n",
       "      <th>theta_dot</th>\n",
       "      <th>u</th>\n",
       "    </tr>\n",
       "  </thead>\n",
       "  <tbody>\n",
       "    <tr>\n",
       "      <th>0</th>\n",
       "      <td>3.141593</td>\n",
       "      <td>0.000000e+00</td>\n",
       "      <td>-0.000000</td>\n",
       "    </tr>\n",
       "    <tr>\n",
       "      <th>1</th>\n",
       "      <td>3.141593</td>\n",
       "      <td>-1.348867e-11</td>\n",
       "      <td>-0.020010</td>\n",
       "    </tr>\n",
       "    <tr>\n",
       "      <th>2</th>\n",
       "      <td>3.141592</td>\n",
       "      <td>-9.955803e-05</td>\n",
       "      <td>-0.040037</td>\n",
       "    </tr>\n",
       "    <tr>\n",
       "      <th>3</th>\n",
       "      <td>3.141590</td>\n",
       "      <td>-2.978226e-04</td>\n",
       "      <td>-0.060081</td>\n",
       "    </tr>\n",
       "    <tr>\n",
       "      <th>4</th>\n",
       "      <td>3.141586</td>\n",
       "      <td>-5.939895e-04</td>\n",
       "      <td>-0.080139</td>\n",
       "    </tr>\n",
       "  </tbody>\n",
       "</table>\n",
       "</div>"
      ],
      "text/plain": [
       "      theta     theta_dot         u\n",
       "0  3.141593  0.000000e+00 -0.000000\n",
       "1  3.141593 -1.348867e-11 -0.020010\n",
       "2  3.141592 -9.955803e-05 -0.040037\n",
       "3  3.141590 -2.978226e-04 -0.060081\n",
       "4  3.141586 -5.939895e-04 -0.080139"
      ]
     },
     "execution_count": 15,
     "metadata": {},
     "output_type": "execute_result"
    }
   ],
   "source": [
    "X_u = pd.DataFrame(np.hstack([X, u.reshape(-1, 1)]), columns=x_names)\n",
    "X_u.head()"
   ]
  },
  {
   "cell_type": "code",
   "execution_count": 16,
   "metadata": {},
   "outputs": [
    {
     "data": {
      "text/plain": [
       "4"
      ]
     },
     "execution_count": 16,
     "metadata": {},
     "output_type": "execute_result"
    }
   ],
   "source": [
    "threshold = 0.2\n",
    "model.fit(X_u, dXdt, threshold=threshold)\n",
    "\n",
    "model.n_params"
   ]
  },
  {
   "cell_type": "code",
   "execution_count": 17,
   "metadata": {},
   "outputs": [
    {
     "data": {
      "text/plain": [
       "['x1', 'x2', 'sin(x0)']"
      ]
     },
     "execution_count": 17,
     "metadata": {},
     "output_type": "execute_result"
    }
   ],
   "source": [
    "model.x_features"
   ]
  },
  {
   "cell_type": "code",
   "execution_count": 18,
   "metadata": {},
   "outputs": [
    {
     "data": {
      "text/plain": [
       "1.0"
      ]
     },
     "execution_count": 18,
     "metadata": {},
     "output_type": "execute_result"
    }
   ],
   "source": [
    "# R-squared\n",
    "model.score(X_u, dXdt)"
   ]
  },
  {
   "cell_type": "code",
   "execution_count": 19,
   "metadata": {},
   "outputs": [
    {
     "data": {
      "text/plain": [
       "y0    0.0\n",
       "y1    0.0\n",
       "dtype: float64"
      ]
     },
     "execution_count": 19,
     "metadata": {},
     "output_type": "execute_result"
    }
   ],
   "source": [
    "# Display coefficients\n",
    "model.intercept_"
   ]
  },
  {
   "cell_type": "code",
   "execution_count": 20,
   "metadata": {},
   "outputs": [
    {
     "data": {
      "text/html": [
       "<div>\n",
       "<style scoped>\n",
       "    .dataframe tbody tr th:only-of-type {\n",
       "        vertical-align: middle;\n",
       "    }\n",
       "\n",
       "    .dataframe tbody tr th {\n",
       "        vertical-align: top;\n",
       "    }\n",
       "\n",
       "    .dataframe thead th {\n",
       "        text-align: right;\n",
       "    }\n",
       "</style>\n",
       "<table border=\"1\" class=\"dataframe\">\n",
       "  <thead>\n",
       "    <tr style=\"text-align: right;\">\n",
       "      <th></th>\n",
       "      <th>x1</th>\n",
       "      <th>x2</th>\n",
       "      <th>sin(x0)</th>\n",
       "    </tr>\n",
       "  </thead>\n",
       "  <tbody>\n",
       "    <tr>\n",
       "      <th>y0</th>\n",
       "      <td>1.0</td>\n",
       "      <td>0.0</td>\n",
       "      <td>0.0</td>\n",
       "    </tr>\n",
       "    <tr>\n",
       "      <th>y1</th>\n",
       "      <td>-1.0</td>\n",
       "      <td>0.5</td>\n",
       "      <td>-5.0</td>\n",
       "    </tr>\n",
       "  </tbody>\n",
       "</table>\n",
       "</div>"
      ],
      "text/plain": [
       "     x1   x2  sin(x0)\n",
       "y0  1.0  0.0      0.0\n",
       "y1 -1.0  0.5     -5.0"
      ]
     },
     "execution_count": 20,
     "metadata": {},
     "output_type": "execute_result"
    }
   ],
   "source": [
    "model.coef_"
   ]
  },
  {
   "cell_type": "code",
   "execution_count": 21,
   "metadata": {},
   "outputs": [],
   "source": [
    "# True model equations \n",
    "# y0 = dxdt[0] = x[1]\n",
    "# y1 = dxdt[1] = -(b/m) * x[1] + (g/L) * np.sin(x[0]) + x[2] / L"
   ]
  },
  {
   "cell_type": "code",
   "execution_count": 22,
   "metadata": {},
   "outputs": [
    {
     "data": {
      "text/plain": [
       "-1.0"
      ]
     },
     "execution_count": 22,
     "metadata": {},
     "output_type": "execute_result"
    }
   ],
   "source": [
    "-params['b'] / params['m']"
   ]
  },
  {
   "cell_type": "code",
   "execution_count": 23,
   "metadata": {},
   "outputs": [
    {
     "data": {
      "text/plain": [
       "-5.0"
      ]
     },
     "execution_count": 23,
     "metadata": {},
     "output_type": "execute_result"
    }
   ],
   "source": [
    "params['g'] / params['L']"
   ]
  },
  {
   "cell_type": "code",
   "execution_count": 24,
   "metadata": {},
   "outputs": [
    {
     "data": {
      "text/plain": [
       "0.5"
      ]
     },
     "execution_count": 24,
     "metadata": {},
     "output_type": "execute_result"
    }
   ],
   "source": [
    "1 / params['L']"
   ]
  },
  {
   "cell_type": "code",
   "execution_count": 25,
   "metadata": {},
   "outputs": [
    {
     "data": {
      "text/html": [
       "<div>\n",
       "<style scoped>\n",
       "    .dataframe tbody tr th:only-of-type {\n",
       "        vertical-align: middle;\n",
       "    }\n",
       "\n",
       "    .dataframe tbody tr th {\n",
       "        vertical-align: top;\n",
       "    }\n",
       "\n",
       "    .dataframe thead th {\n",
       "        text-align: right;\n",
       "    }\n",
       "</style>\n",
       "<table border=\"1\" class=\"dataframe\">\n",
       "  <thead>\n",
       "    <tr style=\"text-align: right;\">\n",
       "      <th></th>\n",
       "      <th>theta_dot</th>\n",
       "      <th>theta_ddot</th>\n",
       "    </tr>\n",
       "  </thead>\n",
       "  <tbody>\n",
       "    <tr>\n",
       "      <th>0</th>\n",
       "      <td>0.000000e+00</td>\n",
       "      <td>-6.123234e-16</td>\n",
       "    </tr>\n",
       "    <tr>\n",
       "      <th>1</th>\n",
       "      <td>-1.348867e-11</td>\n",
       "      <td>-1.000483e-02</td>\n",
       "    </tr>\n",
       "    <tr>\n",
       "      <th>2</th>\n",
       "      <td>-9.955803e-05</td>\n",
       "      <td>-1.992160e-02</td>\n",
       "    </tr>\n",
       "    <tr>\n",
       "      <th>3</th>\n",
       "      <td>-2.978226e-04</td>\n",
       "      <td>-2.975509e-02</td>\n",
       "    </tr>\n",
       "  </tbody>\n",
       "</table>\n",
       "</div>"
      ],
      "text/plain": [
       "      theta_dot    theta_ddot\n",
       "0  0.000000e+00 -6.123234e-16\n",
       "1 -1.348867e-11 -1.000483e-02\n",
       "2 -9.955803e-05 -1.992160e-02\n",
       "3 -2.978226e-04 -2.975509e-02"
      ]
     },
     "execution_count": 25,
     "metadata": {},
     "output_type": "execute_result"
    }
   ],
   "source": [
    "dXdt.loc[0:3]"
   ]
  },
  {
   "cell_type": "markdown",
   "metadata": {},
   "source": [
    "## B. Using identified model for prediction"
   ]
  },
  {
   "cell_type": "code",
   "execution_count": 26,
   "metadata": {},
   "outputs": [
    {
     "data": {
      "text/html": [
       "<div>\n",
       "<style scoped>\n",
       "    .dataframe tbody tr th:only-of-type {\n",
       "        vertical-align: middle;\n",
       "    }\n",
       "\n",
       "    .dataframe tbody tr th {\n",
       "        vertical-align: top;\n",
       "    }\n",
       "\n",
       "    .dataframe thead th {\n",
       "        text-align: right;\n",
       "    }\n",
       "</style>\n",
       "<table border=\"1\" class=\"dataframe\">\n",
       "  <thead>\n",
       "    <tr style=\"text-align: right;\">\n",
       "      <th></th>\n",
       "      <th>theta</th>\n",
       "      <th>theta_dot</th>\n",
       "      <th>u</th>\n",
       "    </tr>\n",
       "  </thead>\n",
       "  <tbody>\n",
       "    <tr>\n",
       "      <th>0</th>\n",
       "      <td>3.141593</td>\n",
       "      <td>0.000000e+00</td>\n",
       "      <td>-0.000000</td>\n",
       "    </tr>\n",
       "    <tr>\n",
       "      <th>1</th>\n",
       "      <td>3.141593</td>\n",
       "      <td>-1.348867e-11</td>\n",
       "      <td>-0.020010</td>\n",
       "    </tr>\n",
       "    <tr>\n",
       "      <th>2</th>\n",
       "      <td>3.141592</td>\n",
       "      <td>-9.955803e-05</td>\n",
       "      <td>-0.040037</td>\n",
       "    </tr>\n",
       "    <tr>\n",
       "      <th>3</th>\n",
       "      <td>3.141590</td>\n",
       "      <td>-2.978226e-04</td>\n",
       "      <td>-0.060081</td>\n",
       "    </tr>\n",
       "    <tr>\n",
       "      <th>4</th>\n",
       "      <td>3.141586</td>\n",
       "      <td>-5.939895e-04</td>\n",
       "      <td>-0.080139</td>\n",
       "    </tr>\n",
       "    <tr>\n",
       "      <th>5</th>\n",
       "      <td>3.141578</td>\n",
       "      <td>-9.873016e-04</td>\n",
       "      <td>-0.100208</td>\n",
       "    </tr>\n",
       "  </tbody>\n",
       "</table>\n",
       "</div>"
      ],
      "text/plain": [
       "      theta     theta_dot         u\n",
       "0  3.141593  0.000000e+00 -0.000000\n",
       "1  3.141593 -1.348867e-11 -0.020010\n",
       "2  3.141592 -9.955803e-05 -0.040037\n",
       "3  3.141590 -2.978226e-04 -0.060081\n",
       "4  3.141586 -5.939895e-04 -0.080139\n",
       "5  3.141578 -9.873016e-04 -0.100208"
      ]
     },
     "execution_count": 26,
     "metadata": {},
     "output_type": "execute_result"
    }
   ],
   "source": [
    "X_u_sample = X_u.loc[0:5]\n",
    "X_u_sample"
   ]
  },
  {
   "cell_type": "code",
   "execution_count": 27,
   "metadata": {},
   "outputs": [
    {
     "data": {
      "text/html": [
       "<div>\n",
       "<style scoped>\n",
       "    .dataframe tbody tr th:only-of-type {\n",
       "        vertical-align: middle;\n",
       "    }\n",
       "\n",
       "    .dataframe tbody tr th {\n",
       "        vertical-align: top;\n",
       "    }\n",
       "\n",
       "    .dataframe thead th {\n",
       "        text-align: right;\n",
       "    }\n",
       "</style>\n",
       "<table border=\"1\" class=\"dataframe\">\n",
       "  <thead>\n",
       "    <tr style=\"text-align: right;\">\n",
       "      <th></th>\n",
       "      <th>theta_dot</th>\n",
       "      <th>theta_ddot</th>\n",
       "    </tr>\n",
       "  </thead>\n",
       "  <tbody>\n",
       "    <tr>\n",
       "      <th>0</th>\n",
       "      <td>0.000000e+00</td>\n",
       "      <td>-6.123234e-16</td>\n",
       "    </tr>\n",
       "    <tr>\n",
       "      <th>1</th>\n",
       "      <td>-1.348867e-11</td>\n",
       "      <td>-1.000483e-02</td>\n",
       "    </tr>\n",
       "    <tr>\n",
       "      <th>2</th>\n",
       "      <td>-9.955803e-05</td>\n",
       "      <td>-1.992160e-02</td>\n",
       "    </tr>\n",
       "    <tr>\n",
       "      <th>3</th>\n",
       "      <td>-2.978226e-04</td>\n",
       "      <td>-2.975509e-02</td>\n",
       "    </tr>\n",
       "    <tr>\n",
       "      <th>4</th>\n",
       "      <td>-5.939895e-04</td>\n",
       "      <td>-3.951002e-02</td>\n",
       "    </tr>\n",
       "    <tr>\n",
       "      <th>5</th>\n",
       "      <td>-9.873016e-04</td>\n",
       "      <td>-4.919100e-02</td>\n",
       "    </tr>\n",
       "  </tbody>\n",
       "</table>\n",
       "</div>"
      ],
      "text/plain": [
       "      theta_dot    theta_ddot\n",
       "0  0.000000e+00 -6.123234e-16\n",
       "1 -1.348867e-11 -1.000483e-02\n",
       "2 -9.955803e-05 -1.992160e-02\n",
       "3 -2.978226e-04 -2.975509e-02\n",
       "4 -5.939895e-04 -3.951002e-02\n",
       "5 -9.873016e-04 -4.919100e-02"
      ]
     },
     "execution_count": 27,
     "metadata": {},
     "output_type": "execute_result"
    }
   ],
   "source": [
    "model.predict(X_u_sample)"
   ]
  },
  {
   "cell_type": "code",
   "execution_count": 28,
   "metadata": {},
   "outputs": [
    {
     "data": {
      "text/plain": [
       "{'theta_dot': 0.0, 'theta_ddot': -6.123233995736762e-16}"
      ]
     },
     "execution_count": 28,
     "metadata": {},
     "output_type": "execute_result"
    }
   ],
   "source": [
    "# For one-step ahead prediction use dicts or Series\n",
    "x_u = {\n",
    "    'theta': np.pi, \n",
    "    'theta_dot': 0, \n",
    "    'u': 0\n",
    "}\n",
    "model.predict(x_u)"
   ]
  },
  {
   "cell_type": "markdown",
   "metadata": {},
   "source": [
    "## C. Estimation from 10 data points"
   ]
  },
  {
   "cell_type": "code",
   "execution_count": 29,
   "metadata": {},
   "outputs": [
    {
     "name": "stdout",
     "output_type": "stream",
     "text": [
      "Number of parameters: 4\n",
      "Coefficients\n",
      "          x1        x2   sin(x0)\n",
      "y0  1.000000  0.000000  0.000000\n",
      "y1 -0.999997  0.499999 -4.999998\n",
      "Intercepts\n",
      "y0    0.0\n",
      "y1    0.0\n",
      "dtype: float64\n",
      "R-squared: 1.000\n"
     ]
    }
   ],
   "source": [
    "# The following data points were randomly sampled\n",
    "# from a time-series generated by simulating a \n",
    "# simple pendulum with the following equations\n",
    "# Pendulum system dynamics:\n",
    "# y[0] = dXdt[0] = x[1]\n",
    "# y[1] = dXdt[1] = -(b/m) * x[1] + (g/L) * np.sin(x[0]) + u(t) / L\n",
    "# with m=1, L=2, g=-10, b=1 and X0 = [pi, 0]\n",
    "\n",
    "X_u_data = np.array([\n",
    "    [-0.31337, -0.35066, -1.95775],\n",
    "    [ 0.43377,  0.1971 ,  0.12873],\n",
    "    [ 0.02058, -0.97899, -0.13313],\n",
    "    [-0.64254, -2.22694, -0.583  ],\n",
    "    [ 0.13985, -0.35462, -0.13526],\n",
    "    [ 0.29423,  0.4599 ,  1.98026],\n",
    "    [ 0.29177, -0.34668,  0.43937],\n",
    "    [-0.17303, -0.78595, -0.89596],\n",
    "    [ 0.3605 , -0.48347, -1.54148],\n",
    "    [ 0.33364, -0.20928,  0.92452]\n",
    "])\n",
    "\n",
    "dXdt_data = np.array([\n",
    "    [-0.35066,  0.91312],\n",
    "    [ 0.1971 , -2.23421],\n",
    "    [-0.97899,  0.80954],\n",
    "    [-2.22694,  4.93158],\n",
    "    [-0.35462, -0.40998],\n",
    "    [ 0.4599 , -0.91979],\n",
    "    [-0.34668, -0.87185],\n",
    "    [-0.78595,  1.19881],\n",
    "    [-0.48347, -2.05099],\n",
    "    [-0.20928, -0.9659 ]\n",
    "])\n",
    "\n",
    "x_names = ['theta', 'theta_dot', 'u']\n",
    "y_names = ['theta_dot', 'theta_ddot']\n",
    "X_u = pd.DataFrame(X_u_data, columns=x_names)\n",
    "dXdt = pd.DataFrame(dXdt_data, columns=y_names)\n",
    "\n",
    "custom_features = ['sin(x0)', 'cos(x0)', 'sin(x0)**2', \n",
    "                   'cos(x0)**2', 'sin(x0)*cos(x0)']\n",
    "\n",
    "model = SparseNonLinearModel(x_names, y_names, \n",
    "                             custom_features=custom_features,\n",
    "                             poly_order=2)\n",
    "\n",
    "model.fit(X_u, dXdt, threshold=0.2)\n",
    "print(f\"Number of parameters: {model.n_params}\")\n",
    "print(f\"Coefficients\\n{model.coef_}\")\n",
    "print(f\"Intercepts\\n{model.intercept_}\")\n",
    "print(f\"R-squared: {model.score(X_u, dXdt):.3f}\")"
   ]
  },
  {
   "cell_type": "code",
   "execution_count": null,
   "metadata": {},
   "outputs": [],
   "source": []
  },
  {
   "cell_type": "code",
   "execution_count": null,
   "metadata": {},
   "outputs": [],
   "source": []
  },
  {
   "cell_type": "code",
   "execution_count": null,
   "metadata": {},
   "outputs": [],
   "source": []
  },
  {
   "cell_type": "code",
   "execution_count": null,
   "metadata": {},
   "outputs": [],
   "source": []
  }
 ],
 "metadata": {
  "kernelspec": {
   "display_name": "Python [conda env:torch]",
   "language": "python",
   "name": "conda-env-torch-py"
  },
  "language_info": {
   "codemirror_mode": {
    "name": "ipython",
    "version": 3
   },
   "file_extension": ".py",
   "mimetype": "text/x-python",
   "name": "python",
   "nbconvert_exporter": "python",
   "pygments_lexer": "ipython3",
   "version": "3.7.7"
  }
 },
 "nbformat": 4,
 "nbformat_minor": 2
}

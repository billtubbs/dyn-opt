{
 "cells": [
  {
   "cell_type": "markdown",
   "metadata": {},
   "source": [
    "# Examples"
   ]
  },
  {
   "cell_type": "code",
   "execution_count": 1,
   "metadata": {},
   "outputs": [],
   "source": [
    "import numpy as np\n",
    "import pandas as pd\n",
    "import sklearn\n",
    "from sklearn.datasets import load_boston\n",
    "from dynopt.models.models import Model"
   ]
  },
  {
   "cell_type": "markdown",
   "metadata": {},
   "source": [
    "## Example 1. Linear Regression with Boston Housing Data"
   ]
  },
  {
   "cell_type": "code",
   "execution_count": 2,
   "metadata": {},
   "outputs": [
    {
     "name": "stdout",
     "output_type": "stream",
     "text": [
      "      CRIM    ZN  INDUS  CHAS    NOX     RM   AGE     DIS  RAD    TAX  \\\n",
      "0  0.00632  18.0   2.31   0.0  0.538  6.575  65.2  4.0900  1.0  296.0   \n",
      "1  0.02731   0.0   7.07   0.0  0.469  6.421  78.9  4.9671  2.0  242.0   \n",
      "2  0.02729   0.0   7.07   0.0  0.469  7.185  61.1  4.9671  2.0  242.0   \n",
      "3  0.03237   0.0   2.18   0.0  0.458  6.998  45.8  6.0622  3.0  222.0   \n",
      "4  0.06905   0.0   2.18   0.0  0.458  7.147  54.2  6.0622  3.0  222.0   \n",
      "\n",
      "   PTRATIO       B  LSTAT  \n",
      "0     15.3  396.90   4.98  \n",
      "1     17.8  396.90   9.14  \n",
      "2     17.8  392.83   4.03  \n",
      "3     18.7  394.63   2.94  \n",
      "4     18.7  396.90   5.33  \n"
     ]
    }
   ],
   "source": [
    "from sklearn.datasets import load_boston\n",
    "\n",
    "# Load dataset\n",
    "data = load_boston()\n",
    "\n",
    "# Define data names\n",
    "feature_names = data.feature_names.tolist()\n",
    "target_name = 'MEDV'  # Median value of homes in $1000s\n",
    "\n",
    "# Construct Pandas dataframes\n",
    "X = pd.DataFrame(data.data, columns=feature_names)\n",
    "y = pd.DataFrame(data.target, columns=[target_name])\n",
    "\n",
    "print(X.head())"
   ]
  },
  {
   "cell_type": "code",
   "execution_count": 3,
   "metadata": {},
   "outputs": [
    {
     "name": "stdout",
     "output_type": "stream",
     "text": [
      "   MEDV\n",
      "0  24.0\n",
      "1  21.6\n",
      "2  34.7\n",
      "3  33.4\n",
      "4  36.2\n"
     ]
    }
   ],
   "source": [
    "print(y.head())"
   ]
  },
  {
   "cell_type": "code",
   "execution_count": 4,
   "metadata": {},
   "outputs": [
    {
     "name": "stdout",
     "output_type": "stream",
     "text": [
      "Model(['LSTAT', 'RM', 'TAX'], ['MEDV'], estimator=LinearRegression(copy_X=True, fit_intercept=True, n_jobs=None, normalize=False))\n"
     ]
    }
   ],
   "source": [
    "# Select desired inputs and outputs\n",
    "x_names = ['LSTAT', 'RM', 'TAX']\n",
    "y_names = ['MEDV']\n",
    "\n",
    "# Initialize model\n",
    "model = Model(x_names, y_names)  # by default uses a linear estimator\n",
    "\n",
    "print(model)"
   ]
  },
  {
   "cell_type": "code",
   "execution_count": 5,
   "metadata": {},
   "outputs": [
    {
     "name": "stdout",
     "output_type": "stream",
     "text": [
      "0.6485147669915273\n"
     ]
    }
   ],
   "source": [
    "# Fit model\n",
    "model.fit(X, y)\n",
    "\n",
    "# Fit score (R-squared)\n",
    "print(model.score(X, y))"
   ]
  },
  {
   "cell_type": "code",
   "execution_count": 6,
   "metadata": {},
   "outputs": [
    {
     "name": "stdout",
     "output_type": "stream",
     "text": [
      "        MEDV\n",
      "0  29.012111\n",
      "1  26.263785\n",
      "2  33.059827\n",
      "3  32.819835\n",
      "4  32.273937\n"
     ]
    }
   ],
   "source": [
    "# Prediction with fitted model\n",
    "\n",
    "print(model.predict(X.head()))"
   ]
  },
  {
   "cell_type": "code",
   "execution_count": 7,
   "metadata": {},
   "outputs": [
    {
     "name": "stdout",
     "output_type": "stream",
     "text": [
      "{'MEDV': 29.01211141973685}\n"
     ]
    }
   ],
   "source": [
    "# Single point prediction is also supported\n",
    "x = {'LSTAT': 4.98, 'RM': 6.575, 'TAX': 296}\n",
    "print(model.predict(x))"
   ]
  },
  {
   "cell_type": "markdown",
   "metadata": {},
   "source": [
    "## Simple Pendulum Example"
   ]
  },
  {
   "cell_type": "code",
   "execution_count": 8,
   "metadata": {},
   "outputs": [],
   "source": [
    "import numpy as np\n",
    "\n",
    "def pendulum_dydt(t, y):\n",
    "    dydt = np.empty_like(y)\n",
    "    dydt[0] = y[1]\n",
    "    dydt[1] = -y[1] - 5*np.sin(y[0])\n",
    "    return dydt"
   ]
  },
  {
   "cell_type": "code",
   "execution_count": 9,
   "metadata": {},
   "outputs": [],
   "source": [
    "from scipy.integrate import odeint\n",
    "\n",
    "# Integrate dy/dt over time\n",
    "t = np.arange(0, 10, 0.1)\n",
    "y0 = [0.1, 0]  # Initial condition\n",
    "y = odeint(pendulum_dydt, y0, t, tfirst=True)\n",
    "assert y.shape == (100, 2), y.shape"
   ]
  },
  {
   "cell_type": "code",
   "execution_count": 10,
   "metadata": {},
   "outputs": [
    {
     "data": {
      "text/plain": [
       "<Figure size 600x250 with 1 Axes>"
      ]
     },
     "metadata": {},
     "output_type": "display_data"
    }
   ],
   "source": [
    "import matplotlib.pyplot as plt\n",
    "\n",
    "fig, ax = plt.subplots(figsize=(6,2.5))\n",
    "for i in range(y.shape[1]):\n",
    "    plt.plot(t, y[:,i], label=f'y[{i}]')\n",
    "plt.xlabel('t')\n",
    "plt.grid()\n",
    "plt.legend()\n",
    "plt.tight_layout()\n",
    "plt.savefig('images/pendulum-time-plot.png')\n",
    "plt.show()"
   ]
  },
  {
   "cell_type": "code",
   "execution_count": 11,
   "metadata": {},
   "outputs": [],
   "source": [
    "# Calculate dydt values\n",
    "dydt = pendulum_dydt(t, y.T).T\n",
    "assert dydt.shape == (100, 2)"
   ]
  },
  {
   "cell_type": "code",
   "execution_count": 12,
   "metadata": {},
   "outputs": [],
   "source": [
    "from dynopt.models.models import NonLinearModel\n",
    "\n",
    "# Labels for inputs and outputs\n",
    "x_names = ['theta', 'theta_dot']\n",
    "y_names = ['theta_dot', 'theta_ddot']\n",
    "\n",
    "# Choose input features including non-linear terms\n",
    "x_features = ['x1', 'sin(x0)']\n",
    "\n",
    "# Initialize model\n",
    "model = NonLinearModel(x_names, y_names, x_features=x_features)"
   ]
  },
  {
   "cell_type": "code",
   "execution_count": 13,
   "metadata": {},
   "outputs": [
    {
     "name": "stdout",
     "output_type": "stream",
     "text": [
      "      theta  theta_dot\n",
      "0  0.100000   0.000000\n",
      "1  0.097595  -0.047109\n",
      "2  0.090802  -0.087513\n",
      "3  0.080359  -0.119943\n",
      "4  0.067106  -0.143621\n"
     ]
    }
   ],
   "source": [
    "# Prepare pandas dataframes for inputs and outputs\n",
    "y = pd.DataFrame(y, columns=x_names)\n",
    "dydt = pd.DataFrame(dydt, columns=y_names)\n",
    "print(y.head())"
   ]
  },
  {
   "cell_type": "code",
   "execution_count": 14,
   "metadata": {},
   "outputs": [
    {
     "name": "stdout",
     "output_type": "stream",
     "text": [
      "   theta_dot  theta_ddot\n",
      "0   0.000000   -0.499167\n",
      "1  -0.047109   -0.440093\n",
      "2  -0.087513   -0.365874\n",
      "3  -0.119943   -0.281420\n",
      "4  -0.143621   -0.191657\n"
     ]
    }
   ],
   "source": [
    "print(dydt.head())"
   ]
  },
  {
   "cell_type": "code",
   "execution_count": 15,
   "metadata": {},
   "outputs": [
    {
     "name": "stdout",
     "output_type": "stream",
     "text": [
      "     x1  sin(x0)\n",
      "y0  1.0     -0.0\n",
      "y1 -1.0     -5.0\n"
     ]
    }
   ],
   "source": [
    "# Fit the linear model\n",
    "model.fit(y, dydt)\n",
    "print(model.coef_.round(5))"
   ]
  },
  {
   "cell_type": "code",
   "execution_count": 16,
   "metadata": {},
   "outputs": [
    {
     "name": "stdout",
     "output_type": "stream",
     "text": [
      "y0   -0.0\n",
      "y1    0.0\n",
      "dtype: float64\n"
     ]
    }
   ],
   "source": [
    "print(model.intercept_.round(5))"
   ]
  },
  {
   "cell_type": "code",
   "execution_count": null,
   "metadata": {},
   "outputs": [],
   "source": []
  },
  {
   "cell_type": "code",
   "execution_count": null,
   "metadata": {},
   "outputs": [],
   "source": []
  },
  {
   "cell_type": "code",
   "execution_count": 17,
   "metadata": {},
   "outputs": [],
   "source": [
    "from dynopt.models.models import SparseNonLinearModel\n",
    "\n",
    "# Labels for inputs and outputs\n",
    "x_names = ['theta', 'theta_dot']\n",
    "y_names = ['theta_dot', 'theta_ddot']\n",
    "\n",
    "# Choose additional non-linear features for model identification\n",
    "custom_features = ['sin(x0)', 'cos(x0)', 'sin(x0)**2', \n",
    "                   'cos(x0)**2', 'sin(x0)*cos(x0)']\n",
    "\n",
    "# Initialize SINDy model\n",
    "model = SparseNonLinearModel(x_names, y_names, \n",
    "                             custom_features=custom_features,\n",
    "                             poly_order=2)"
   ]
  },
  {
   "cell_type": "code",
   "execution_count": 18,
   "metadata": {},
   "outputs": [],
   "source": [
    "# Prepare pandas dataframes for inputs and outputs\n",
    "y = pd.DataFrame(y, columns=x_names)\n",
    "dydt = pd.DataFrame(dydt, columns=y_names)"
   ]
  },
  {
   "cell_type": "code",
   "execution_count": 19,
   "metadata": {},
   "outputs": [
    {
     "name": "stdout",
     "output_type": "stream",
     "text": [
      "3\n"
     ]
    }
   ],
   "source": [
    "# Sparse identification of non-linear dynamics (SINDy)\n",
    "threshold = 0.2  # Sparsity parameter\n",
    "model.fit(y, dydt, threshold=threshold)\n",
    "print(model.n_params)"
   ]
  },
  {
   "cell_type": "code",
   "execution_count": 20,
   "metadata": {},
   "outputs": [
    {
     "name": "stdout",
     "output_type": "stream",
     "text": [
      "     x1  sin(x0)\n",
      "y0  1.0      0.0\n",
      "y1 -1.0     -5.0\n"
     ]
    }
   ],
   "source": [
    "print(model.coef_)"
   ]
  },
  {
   "cell_type": "code",
   "execution_count": null,
   "metadata": {},
   "outputs": [],
   "source": []
  },
  {
   "cell_type": "code",
   "execution_count": null,
   "metadata": {},
   "outputs": [],
   "source": []
  },
  {
   "cell_type": "code",
   "execution_count": null,
   "metadata": {},
   "outputs": [],
   "source": []
  }
 ],
 "metadata": {
  "kernelspec": {
   "display_name": "Python [conda env:torch]",
   "language": "python",
   "name": "conda-env-torch-py"
  },
  "language_info": {
   "codemirror_mode": {
    "name": "ipython",
    "version": 3
   },
   "file_extension": ".py",
   "mimetype": "text/x-python",
   "name": "python",
   "nbconvert_exporter": "python",
   "pygments_lexer": "ipython3",
   "version": "3.7.7"
  }
 },
 "nbformat": 4,
 "nbformat_minor": 2
}
